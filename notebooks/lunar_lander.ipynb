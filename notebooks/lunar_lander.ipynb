{
 "cells": [
  {
   "cell_type": "code",
   "execution_count": 2,
   "metadata": {},
   "outputs": [],
   "source": [
    "import gymnasium as gym\n",
    "import numpy as np\n",
    "import random"
   ]
  },
  {
   "cell_type": "markdown",
   "metadata": {},
   "source": [
    "# Lunar Lander\n",
    "\n",
    "1. **Objective**: The main objective is to land the lunar module between two flags safely. Landing outside the flags or crashing the module results in reduced rewards or penalties.\n",
    "\n",
    "2. **States**: The state (or observation) space has eight dimensions:\n",
    "   - X and Y coordinates.\n",
    "   - X and Y velocity.\n",
    "   - Angle and angular velocity.\n",
    "   - A boolean (0 or 1) for whether the left leg has made contact.\n",
    "   - A boolean (0 or 1) for whether the right leg has made contact.\n",
    "\n",
    "\n",
    "3. **Actions**: The agent can take one of four actions at each time step:\n",
    "   - Do nothing.\n",
    "   - Fire the main engine (to slow descent).\n",
    "   - Fire the left orientation engine (to push the lander to the right).\n",
    "   - Fire the right orientation engine (to push the lander to the left).\n",
    "\n",
    "\n",
    "4. **Rewards**: \n",
    "   - For each frame that the lander is flying, it gets a reward between -0.3 to -0.03 points.\n",
    "   - If the lander crashes (e.g., comes in too fast or lands at a bad angle), it gets a penalty of -100 points.\n",
    "   - If the lander lands successfully and safely, it receives +100 points.\n",
    "   - There are additional points for moving closer to the center and penalties for using fuel (firing engines).\n",
    "\n",
    "\n",
    "5. **Versions**:\n",
    "   - **LunarLander-v2**: This is the standard version.\n",
    "   - **LunarLanderContinuous-v2**: In this version, instead of discrete actions, the agent has to choose two continuous actions. The first one determines the main engine's thrust (0 not firing, 1 full throttle), and the second one controls orientation (-1 full left, 0 off, 1 full right).\n"
   ]
  },
  {
   "cell_type": "markdown",
   "metadata": {},
   "source": [
    "## Random action"
   ]
  },
  {
   "cell_type": "code",
   "execution_count": 3,
   "metadata": {},
   "outputs": [],
   "source": [
    "env = gym.make(\"LunarLander-v2\", render_mode=\"rgb_array\")"
   ]
  },
  {
   "cell_type": "code",
   "execution_count": 4,
   "metadata": {},
   "outputs": [
    {
     "name": "stdout",
     "output_type": "stream",
     "text": [
      "Episode: 10 Score: -123.547990523588428\r"
     ]
    }
   ],
   "source": [
    "episodes = 10\n",
    "for episode in range(episodes+1):\n",
    "\n",
    "    # reset the evironment for each episode\n",
    "    observation = env.reset()\n",
    "    score = 0\n",
    "    done = False \n",
    "    \n",
    "    while not done:\n",
    "\n",
    "        # possible actions at each step: do nothing, fire the main engine, fire the left orientation engine, or fire the right orientation engine \n",
    "        action = env.action_space.sample()  \n",
    "        observation, reward, terminated, truncated, info = env.step(action)\n",
    "        score += reward\n",
    "        env.render()\n",
    "        print(f\"Episode: {episode} Score: {score}\", end=\"\\r\")\n",
    "\n",
    "        if terminated or truncated:\n",
    "            done = True\n",
    "\n",
    "env.close()"
   ]
  },
  {
   "cell_type": "code",
   "execution_count": null,
   "metadata": {},
   "outputs": [],
   "source": []
  },
  {
   "cell_type": "code",
   "execution_count": null,
   "metadata": {},
   "outputs": [],
   "source": []
  }
 ],
 "metadata": {
  "kernelspec": {
   "display_name": "venv",
   "language": "python",
   "name": "python3"
  },
  "language_info": {
   "codemirror_mode": {
    "name": "ipython",
    "version": 3
   },
   "file_extension": ".py",
   "mimetype": "text/x-python",
   "name": "python",
   "nbconvert_exporter": "python",
   "pygments_lexer": "ipython3",
   "version": "3.8.10"
  },
  "orig_nbformat": 4
 },
 "nbformat": 4,
 "nbformat_minor": 2
}
